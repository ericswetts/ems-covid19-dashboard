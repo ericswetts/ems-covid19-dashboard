{
 "cells": [
  {
   "cell_type": "code",
   "execution_count": 1,
   "metadata": {},
   "outputs": [],
   "source": [
    "from db_api_methods import get_from_api, set_to_db\n",
    "from process_data import json_to_df, get_chart_ready_df"
   ]
  },
  {
   "cell_type": "code",
   "execution_count": 21,
   "metadata": {},
   "outputs": [
    {
     "name": "stdout",
     "output_type": "stream",
     "text": [
      "Connecting to the PostgreSQL database...\n",
      "Connection successful\n",
      "Successfully cleared cached data\n",
      "Index(['Country', 'Population', 'Date', 'ISO-3', 'Multiple_Territories',\n",
      "       'Month and Year', 'Day', 'Deaths', 'Deaths per 1M', 'Cases',\n",
      "       'Cases per 1M', 'New Deaths (n)', 'New Cases (n)'],\n",
      "      dtype='object')\n",
      "copy_from_stringio() done\n"
     ]
    }
   ],
   "source": [
    "if __name__ == '__main__':\n",
    "    json = get_from_api()\n",
    "    processed_data = json_to_df(json)\n",
    "    df = get_chart_ready_df(processed_data)\n",
    "    set_to_db(df, 'public.chart_ready')\n"
   ]
  }
 ],
 "metadata": {
  "kernelspec": {
   "display_name": "Python 3",
   "language": "python",
   "name": "python3"
  },
  "language_info": {
   "codemirror_mode": {
    "name": "ipython",
    "version": 3
   },
   "file_extension": ".py",
   "mimetype": "text/x-python",
   "name": "python",
   "nbconvert_exporter": "python",
   "pygments_lexer": "ipython3",
   "version": "3.8.5"
  }
 },
 "nbformat": 4,
 "nbformat_minor": 4
}
