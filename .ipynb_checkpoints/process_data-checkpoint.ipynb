{
 "cells": [
  {
   "cell_type": "code",
   "execution_count": null,
   "metadata": {},
   "outputs": [],
   "source": [
    "import numpy as np\n",
    "import pandas as pd\n",
    "import json\n",
    "from csv import writer\n",
    "import requests\n",
    "from datetime import date"
   ]
  },
  {
   "cell_type": "markdown",
   "metadata": {},
   "source": [
    "For Heroku PSQL integration"
   ]
  },
  {
   "cell_type": "code",
   "execution_count": 1,
   "metadata": {},
   "outputs": [],
   "source": [
    "from flask_sqlalchemy import SQLAlchemy\n",
    "from flask import Flask\n",
    "import os"
   ]
  },
  {
   "cell_type": "markdown",
   "metadata": {},
   "source": [
    "Helper function to make API call"
   ]
  },
  {
   "cell_type": "code",
   "execution_count": null,
   "metadata": {},
   "outputs": [],
   "source": [
    "def make_api_call():\n",
    "    try:\n",
    "        response = requests.get('https://coronavirus-tracker-api.herokuapp.com/v2/locations?timelines=1')\n",
    "        timeline_json = response.json()\n",
    "        return timeline_json\n",
    "    \n",
    "    except Exception as e:\n",
    "        print('Error making API call: ', e)"
   ]
  },
  {
   "cell_type": "markdown",
   "metadata": {},
   "source": [
    "Helper function to load previously loaded API data"
   ]
  },
  {
   "cell_type": "code",
   "execution_count": null,
   "metadata": {},
   "outputs": [],
   "source": [
    "def use_existing_api_data():\n",
    "    try:\n",
    "        timeline_json = json.load(open('../api_data/timeline_json.json'))\n",
    "        return timeline_json\n",
    "    except Exception as e:\n",
    "        print('Error reading existing JSON file: ', e)"
   ]
  },
  {
   "cell_type": "markdown",
   "metadata": {},
   "source": [
    "elper function to update api call log"
   ]
  },
  {
   "cell_type": "code",
   "execution_count": null,
   "metadata": {},
   "outputs": [],
   "source": [
    "def up_to_date_check():\n",
    "    today = str(date.today())\n",
    "    log = pd.read_csv('../api_data/api_call_log.csv')\n",
    "    last = log.loc[:,'date'].max()\n",
    "    return last == today"
   ]
  },
  {
   "cell_type": "markdown",
   "metadata": {},
   "source": [
    "elper function to load data (cached or via new API call) for webapp"
   ]
  },
  {
   "cell_type": "code",
   "execution_count": null,
   "metadata": {},
   "outputs": [],
   "source": [
    "def get_raw_data():\n",
    "#     raw_data = use_existing_api_data() if up_to_date_check else make_api_call()\n",
    "        return make_api_call()"
   ]
  },
  {
   "cell_type": "markdown",
   "metadata": {},
   "source": [
    "In[4]:"
   ]
  },
  {
   "cell_type": "code",
   "execution_count": null,
   "metadata": {},
   "outputs": [],
   "source": [
    "def process_raw_data():"
   ]
  },
  {
   "cell_type": "markdown",
   "metadata": {},
   "source": [
    "mport ISO3 data for Dash Plotly Choropleth mapping"
   ]
  },
  {
   "cell_type": "code",
   "execution_count": null,
   "metadata": {},
   "outputs": [],
   "source": [
    "    iso3 = pd.read_csv(\"geodata/ISO3.csv\",  index_col = 0)\n",
    "    location_data = get_raw_data()['locations']\n",
    "    \n",
    "    #create empty list to compile country-level data\n",
    "    data_rows = []\n",
    "\n",
    "    #Extract COVID morbidity and mortality data from COVID JSON\n",
    "    for loc in location_data:\n",
    "\n",
    "        #Remove non-countries and countries with missing data\n",
    "        if loc['country'] in ['MS Zaandam', 'Eritrea', 'Diamond Princess']: continue   \n",
    "        cases = [{'Date': k, 'Cases' :v} for k,v in loc['timelines']['confirmed']['timeline'].items()]\n",
    "        deaths = [{'Date': k, 'Deaths' :v} for k,v in loc['timelines']['deaths']['timeline'].items()]\n",
    "        country_data = pd.merge(\n",
    "            pd.DataFrame(deaths), \n",
    "            pd.DataFrame(cases), \n",
    "            left_on = 'Date', \n",
    "            right_on = 'Date')\n",
    "        country_data['Country'] = 'United States' if loc['country'] == 'US' else loc['country']\n",
    "        country_data['Country Code'] =  loc['country_code']\n",
    "        country_data['Population'] =  loc['country_population']\n",
    "        country_data['Province'] =  loc['province']\n",
    "        country_data['Latitude'], country_data['Longitude'] =  [*loc['coordinates'].values()]\n",
    "        country_data['Cases per 1M'] = (country_data['Cases'] /  country_data['Population']* 1000000).round(1)\n",
    "        country_data['Deaths per 1M'] = (country_data['Deaths'] /  country_data['Population']* 1000000).round(1)\n",
    "        country_data['New Deaths (n)'] = country_data['Deaths'].diff()\n",
    "#         country_data['Change in Deaths (pct)'] = country_data['Deaths'].pct_change().round(2)\n",
    "        country_data['New Cases (n)'] = country_data['Cases'].diff()\n",
    "#         country_data['Change in Cases (pct)'] = country_data['Cases'].pct_change().round(2)\n",
    "        country_data['Multiple_Territories'] = country_data['Country'].isin(['China', 'Canada', 'United Kingdom', 'France', 'Australia', 'Netherlands', 'Denmark'])\n",
    "        \n",
    "        #Date-related Variables\n",
    "        country_data['Date'] =  pd.to_datetime(country_data['Date'].str.slice(0,10)) # + \" \" + country_data['Date'].str.slice(11, -1)\n",
    "        country_data['Month and Year'] = pd.DatetimeIndex(country_data['Date']).strftime(\"%b %Y\")\n",
    "        # Later joined to dates on first of each month to create data labels\n",
    "        country_data['Day'] = pd.DatetimeIndex(country_data['Date']).strftime('%-d')\n",
    "        \n",
    "        data_rows.append(country_data)\n",
    "    df_cases = pd.concat(data_rows, axis = 0)\n",
    "    \n",
    "    #Merge ISO-3 country codes for cholopleth mapping\n",
    "    processed_data = pd.merge(df_cases, iso3, left_on = 'Country', right_on = 'Country', how = 'left')\n",
    "    return processed_data"
   ]
  },
  {
   "cell_type": "markdown",
   "metadata": {},
   "source": [
    "In[5]:"
   ]
  },
  {
   "cell_type": "markdown",
   "metadata": {},
   "source": [
    "Group by Country and Date, to sum metrics (cases, deaths, etc.)<br>\n",
    "for countries with multiple provinces listed. This allows our graphs <br>\n",
    "to render country-level statistics"
   ]
  }
 ],
 "metadata": {
  "kernelspec": {
   "display_name": "Python 3",
   "language": "python",
   "name": "python3"
  },
  "language_info": {
   "codemirror_mode": {
    "name": "ipython",
    "version": 3
   },
   "file_extension": ".py",
   "mimetype": "text/x-python",
   "name": "python",
   "nbconvert_exporter": "python",
   "pygments_lexer": "ipython3",
   "version": "3.8.5"
  }
 },
 "nbformat": 4,
 "nbformat_minor": 2
}
